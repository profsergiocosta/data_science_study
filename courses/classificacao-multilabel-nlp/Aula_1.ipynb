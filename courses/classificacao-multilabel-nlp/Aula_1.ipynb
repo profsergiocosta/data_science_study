{
  "cells": [
    {
      "cell_type": "code",
      "execution_count": 2,
      "metadata": {
        "colab": {
          "base_uri": "https://localhost:8080/",
          "height": 355
        },
        "colab_type": "code",
        "id": "Q96J17TwzgwH",
        "outputId": "a5137f9c-3961-4376-a007-0d24fbe87355"
      },
      "outputs": [
        {
          "data": {
            "text/html": [
              "<div>\n",
              "<style scoped>\n",
              "    .dataframe tbody tr th:only-of-type {\n",
              "        vertical-align: middle;\n",
              "    }\n",
              "\n",
              "    .dataframe tbody tr th {\n",
              "        vertical-align: top;\n",
              "    }\n",
              "\n",
              "    .dataframe thead th {\n",
              "        text-align: right;\n",
              "    }\n",
              "</style>\n",
              "<table border=\"1\" class=\"dataframe\">\n",
              "  <thead>\n",
              "    <tr style=\"text-align: right;\">\n",
              "      <th></th>\n",
              "      <th>Perguntas</th>\n",
              "      <th>Tags</th>\n",
              "    </tr>\n",
              "  </thead>\n",
              "  <tbody>\n",
              "    <tr>\n",
              "      <th>3339</th>\n",
              "      <td>Bem, tentei fazer os valores em um CODE  demos...</td>\n",
              "      <td>jquery html</td>\n",
              "    </tr>\n",
              "    <tr>\n",
              "      <th>2032</th>\n",
              "      <td>Lá vou eu de novo. Tenho uma função onde se ef...</td>\n",
              "      <td>node.js</td>\n",
              "    </tr>\n",
              "    <tr>\n",
              "      <th>5276</th>\n",
              "      <td>Eu tenho um codigo que no meu backend ele reto...</td>\n",
              "      <td>jquery</td>\n",
              "    </tr>\n",
              "    <tr>\n",
              "      <th>3137</th>\n",
              "      <td>Estou usando o fullcalendar para um sistema on...</td>\n",
              "      <td>jquery</td>\n",
              "    </tr>\n",
              "    <tr>\n",
              "      <th>1407</th>\n",
              "      <td>É possivel pegar o SCRIPT de algum elemento.. ...</td>\n",
              "      <td>jquery html</td>\n",
              "    </tr>\n",
              "    <tr>\n",
              "      <th>1276</th>\n",
              "      <td>Estou fazendo esse programa para um trabalho d...</td>\n",
              "      <td>html</td>\n",
              "    </tr>\n",
              "    <tr>\n",
              "      <th>2452</th>\n",
              "      <td>Estou trabalhando em uma aplicação Angular2 qu...</td>\n",
              "      <td>angular</td>\n",
              "    </tr>\n",
              "    <tr>\n",
              "      <th>4876</th>\n",
              "      <td>Desenvolvendo um sistema simples, me deparei c...</td>\n",
              "      <td>angular</td>\n",
              "    </tr>\n",
              "    <tr>\n",
              "      <th>1958</th>\n",
              "      <td>Estou querendo mapear as lista de perguntas e ...</td>\n",
              "      <td>angular</td>\n",
              "    </tr>\n",
              "    <tr>\n",
              "      <th>4547</th>\n",
              "      <td>Estou utilizando um CODE  mas infelizmente não...</td>\n",
              "      <td>jquery</td>\n",
              "    </tr>\n",
              "  </tbody>\n",
              "</table>\n",
              "</div>"
            ],
            "text/plain": [
              "                                              Perguntas         Tags\n",
              "3339  Bem, tentei fazer os valores em um CODE  demos...  jquery html\n",
              "2032  Lá vou eu de novo. Tenho uma função onde se ef...      node.js\n",
              "5276  Eu tenho um codigo que no meu backend ele reto...       jquery\n",
              "3137  Estou usando o fullcalendar para um sistema on...       jquery\n",
              "1407  É possivel pegar o SCRIPT de algum elemento.. ...  jquery html\n",
              "1276  Estou fazendo esse programa para um trabalho d...        html \n",
              "2452  Estou trabalhando em uma aplicação Angular2 qu...      angular\n",
              "4876  Desenvolvendo um sistema simples, me deparei c...      angular\n",
              "1958  Estou querendo mapear as lista de perguntas e ...     angular \n",
              "4547  Estou utilizando um CODE  mas infelizmente não...       jquery"
            ]
          },
          "execution_count": 2,
          "metadata": {},
          "output_type": "execute_result"
        }
      ],
      "source": [
        "import pandas as pd\n",
        "\n",
        "perguntas = pd.read_csv(\"../../data/stackoverflow_perguntas.csv\")\n",
        "perguntas.sample(10)"
      ]
    },
    {
      "cell_type": "code",
      "execution_count": null,
      "metadata": {
        "colab": {},
        "colab_type": "code",
        "id": "cEJH0_TbH3GB"
      },
      "outputs": [],
      "source": []
    }
  ],
  "metadata": {
    "colab": {
      "collapsed_sections": [],
      "name": "Aula_1.ipynb",
      "provenance": []
    },
    "kernelspec": {
      "display_name": "Python 3",
      "name": "python3"
    },
    "language_info": {
      "codemirror_mode": {
        "name": "ipython",
        "version": 3
      },
      "file_extension": ".py",
      "mimetype": "text/x-python",
      "name": "python",
      "nbconvert_exporter": "python",
      "pygments_lexer": "ipython3",
      "version": "3.10.12"
    }
  },
  "nbformat": 4,
  "nbformat_minor": 0
}
